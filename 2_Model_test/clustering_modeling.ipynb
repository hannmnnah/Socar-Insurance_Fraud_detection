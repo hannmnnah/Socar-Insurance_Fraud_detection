{
 "cells": [
  {
   "cell_type": "code",
   "execution_count": 5,
   "metadata": {},
   "outputs": [
    {
     "name": "stdout",
     "output_type": "stream",
     "text": [
      "Daren_X_test.csv\r\n",
      "Daren_X_train.csv\r\n",
      "Daren_y_test.csv\r\n",
      "Daren_y_train.csv\r\n",
      "Hanas_base.csv\r\n",
      "X_.csv\r\n",
      "X_m.csv\r\n",
      "dt_X_mix_train.csv\r\n",
      "dt_X_test.csv\r\n",
      "dt_X_train.csv\r\n",
      "dt_y_mix_train.csv\r\n",
      "dt_y_test.csv\r\n",
      "dt_y_train.csv\r\n",
      "ee803a7da00d9366.docx\r\n",
      "insurance_fraud_detect_data copy.csv\r\n",
      "insurance_fraud_detect_data.csv\r\n",
      "insurance_fraud_detect_data_0.7_0.3.csv\r\n",
      "insurance_fraud_detect_data_0.8_0.2.csv\r\n",
      "y_.csv\r\n",
      "y_m.csv\r\n",
      "쏘카데이터설명.txt\r\n"
     ]
    }
   ],
   "source": [
    "!ls ../../dss15_socar_fraud_detection/data"
   ]
  },
  {
   "cell_type": "code",
   "execution_count": 6,
   "metadata": {},
   "outputs": [
    {
     "name": "stdout",
     "output_type": "stream",
     "text": [
      " total :  (16000, 25) \n",
      " columns :  24 \n",
      " train :  (12879, 24) \n",
      " test :  (3121, 24) \n",
      " train_fraud :  34 \n",
      " test_fraud :  7\n"
     ]
    }
   ],
   "source": [
    "# 1.  base 데이터 불러오기\n",
    "\n",
    "import pandas as pd\n",
    "\n",
    "pd.set_option('display.max_columns',500)\n",
    "pd.options.display.float_format = '{:.5f}'.format\n",
    "data_path = ('../../dss15_socar_fraud_detection/data/')\n",
    "total=pd.read_csv(data_path+'Hanas_base.csv')\n",
    "train=total[total['test_set']==0].reset_index(drop=True).drop('test_set',axis=1)\n",
    "test=total[total['test_set']==1].reset_index(drop=True).drop('test_set',axis=1)\n",
    "\n",
    "#feature, label 나누기\n",
    "X_train=train.iloc[:,1:]\n",
    "y_train=train.iloc[:,0]\n",
    "X_test=test.iloc[:,1:]\n",
    "y_test=test.iloc[:,0]\n",
    "\n",
    "# fraud data 갯수 확인\n",
    "\n",
    "train_yf=train[train['fraud_YN']==1]\n",
    "train_nf=train[train['fraud_YN']==0]\n",
    "test_yf=test[test['fraud_YN']==1]\n",
    "\n",
    "print(' total : ', total.shape,'\\n',\n",
    "      'columns : ',train.shape[1],'\\n',\n",
    "      'train : ',train.shape,'\\n',\n",
    "      'test : ',test.shape,'\\n',\n",
    "      'train_fraud : ', len(y_train[y_train==1]),'\\n',\n",
    "      'test_fraud : ', len(y_test[y_test==1]))"
   ]
  },
  {
   "cell_type": "code",
   "execution_count": 7,
   "metadata": {},
   "outputs": [
    {
     "data": {
      "text/html": [
       "<div>\n",
       "<style scoped>\n",
       "    .dataframe tbody tr th:only-of-type {\n",
       "        vertical-align: middle;\n",
       "    }\n",
       "\n",
       "    .dataframe tbody tr th {\n",
       "        vertical-align: top;\n",
       "    }\n",
       "\n",
       "    .dataframe thead th {\n",
       "        text-align: right;\n",
       "    }\n",
       "</style>\n",
       "<table border=\"1\" class=\"dataframe\">\n",
       "  <thead>\n",
       "    <tr style=\"text-align: right;\">\n",
       "      <th></th>\n",
       "      <th>num</th>\n",
       "      <th>score</th>\n",
       "    </tr>\n",
       "  </thead>\n",
       "  <tbody>\n",
       "    <tr>\n",
       "      <th>0</th>\n",
       "      <td>2</td>\n",
       "      <td>0.92339</td>\n",
       "    </tr>\n",
       "    <tr>\n",
       "      <th>1</th>\n",
       "      <td>3</td>\n",
       "      <td>0.87310</td>\n",
       "    </tr>\n",
       "    <tr>\n",
       "      <th>2</th>\n",
       "      <td>4</td>\n",
       "      <td>0.80453</td>\n",
       "    </tr>\n",
       "    <tr>\n",
       "      <th>3</th>\n",
       "      <td>5</td>\n",
       "      <td>0.79134</td>\n",
       "    </tr>\n",
       "    <tr>\n",
       "      <th>4</th>\n",
       "      <td>6</td>\n",
       "      <td>0.73955</td>\n",
       "    </tr>\n",
       "    <tr>\n",
       "      <th>5</th>\n",
       "      <td>7</td>\n",
       "      <td>0.67378</td>\n",
       "    </tr>\n",
       "    <tr>\n",
       "      <th>6</th>\n",
       "      <td>8</td>\n",
       "      <td>0.68021</td>\n",
       "    </tr>\n",
       "    <tr>\n",
       "      <th>7</th>\n",
       "      <td>9</td>\n",
       "      <td>0.68563</td>\n",
       "    </tr>\n",
       "    <tr>\n",
       "      <th>8</th>\n",
       "      <td>10</td>\n",
       "      <td>0.64616</td>\n",
       "    </tr>\n",
       "    <tr>\n",
       "      <th>9</th>\n",
       "      <td>11</td>\n",
       "      <td>0.64628</td>\n",
       "    </tr>\n",
       "    <tr>\n",
       "      <th>10</th>\n",
       "      <td>12</td>\n",
       "      <td>0.56267</td>\n",
       "    </tr>\n",
       "    <tr>\n",
       "      <th>11</th>\n",
       "      <td>13</td>\n",
       "      <td>0.57837</td>\n",
       "    </tr>\n",
       "    <tr>\n",
       "      <th>12</th>\n",
       "      <td>14</td>\n",
       "      <td>0.57508</td>\n",
       "    </tr>\n",
       "    <tr>\n",
       "      <th>13</th>\n",
       "      <td>15</td>\n",
       "      <td>0.57504</td>\n",
       "    </tr>\n",
       "    <tr>\n",
       "      <th>14</th>\n",
       "      <td>16</td>\n",
       "      <td>0.53463</td>\n",
       "    </tr>\n",
       "    <tr>\n",
       "      <th>15</th>\n",
       "      <td>17</td>\n",
       "      <td>0.56546</td>\n",
       "    </tr>\n",
       "    <tr>\n",
       "      <th>16</th>\n",
       "      <td>18</td>\n",
       "      <td>0.51820</td>\n",
       "    </tr>\n",
       "    <tr>\n",
       "      <th>17</th>\n",
       "      <td>19</td>\n",
       "      <td>0.54410</td>\n",
       "    </tr>\n",
       "    <tr>\n",
       "      <th>18</th>\n",
       "      <td>20</td>\n",
       "      <td>0.53205</td>\n",
       "    </tr>\n",
       "    <tr>\n",
       "      <th>19</th>\n",
       "      <td>21</td>\n",
       "      <td>0.52517</td>\n",
       "    </tr>\n",
       "    <tr>\n",
       "      <th>20</th>\n",
       "      <td>22</td>\n",
       "      <td>0.52724</td>\n",
       "    </tr>\n",
       "    <tr>\n",
       "      <th>21</th>\n",
       "      <td>23</td>\n",
       "      <td>0.53689</td>\n",
       "    </tr>\n",
       "    <tr>\n",
       "      <th>22</th>\n",
       "      <td>24</td>\n",
       "      <td>0.54837</td>\n",
       "    </tr>\n",
       "  </tbody>\n",
       "</table>\n",
       "</div>"
      ],
      "text/plain": [
       "    num   score\n",
       "0     2 0.92339\n",
       "1     3 0.87310\n",
       "2     4 0.80453\n",
       "3     5 0.79134\n",
       "4     6 0.73955\n",
       "5     7 0.67378\n",
       "6     8 0.68021\n",
       "7     9 0.68563\n",
       "8    10 0.64616\n",
       "9    11 0.64628\n",
       "10   12 0.56267\n",
       "11   13 0.57837\n",
       "12   14 0.57508\n",
       "13   15 0.57504\n",
       "14   16 0.53463\n",
       "15   17 0.56546\n",
       "16   18 0.51820\n",
       "17   19 0.54410\n",
       "18   20 0.53205\n",
       "19   21 0.52517\n",
       "20   22 0.52724\n",
       "21   23 0.53689\n",
       "22   24 0.54837"
      ]
     },
     "execution_count": 7,
     "metadata": {},
     "output_type": "execute_result"
    }
   ],
   "source": [
    "from sklearn.cluster import KMeans\n",
    "from sklearn.metrics import silhouette_score\n",
    "\n",
    "ls = list(range(2,25))\n",
    "\n",
    "num = []\n",
    "score = []\n",
    "\n",
    "for i in ls:\n",
    "    k = i\n",
    "    kmeans = KMeans(n_clusters=k, n_init=20)\n",
    "    kmeans.fit_predict(X_train)\n",
    "    si_sc = silhouette_score(X_train, kmeans.labels_)\n",
    "    num.append(i)\n",
    "    score.append(si_sc)\n",
    "    \n",
    "dic = {'num':num, 'score':score}\n",
    "df = pd.DataFrame(dic)\n",
    "df"
   ]
  },
  {
   "cell_type": "code",
   "execution_count": 8,
   "metadata": {},
   "outputs": [
    {
     "data": {
      "image/png": "[encoded data removed]",
      "text/plain": [
       "<Figure size 864x360 with 1 Axes>"
      ]
     },
     "metadata": {
      "image/png": {
       "height": 321,
       "width": 730
      },
      "needs_background": "light"
     },
     "output_type": "display_data"
    }
   ],
   "source": [
    "from matplotlib import pyplot as plt\n",
    "%matplotlib inline\n",
    "\n",
    "plt.figure(figsize=(12,5))\n",
    "plt.plot(df['num'], df['score'], marker='o')\n",
    "plt.xticks(df['num'])\n",
    "plt.xlabel('Clustering num')\n",
    "plt.ylabel('Silhouette Score')\n",
    "\n",
    "plt.show();\n",
    "#변화가 완만해지는 '앨보' 12 보다 살짝 높은 13으로 결정"
   ]
  },
  {
   "cell_type": "markdown",
   "metadata": {},
   "source": [
    "# normal- fraud 나눠서 cluster"
   ]
  },
  {
   "cell_type": "code",
   "execution_count": 9,
   "metadata": {},
   "outputs": [
    {
     "data": {
      "text/plain": [
       "((34, 24), (12845, 24), (7, 24))"
      ]
     },
     "execution_count": 9,
     "metadata": {},
     "output_type": "execute_result"
    }
   ],
   "source": [
    "train_yf = train[train['fraud_YN']==1]\n",
    "train_nf = train[train['fraud_YN']==0]\n",
    "\n",
    "test_yf = test[test['fraud_YN']==1]\n",
    "test_nf = test[test['fraud_YN']==0]\n",
    "\n",
    "train_yf.shape, train_nf.shape,test_yf.shape"
   ]
  },
  {
   "cell_type": "markdown",
   "metadata": {},
   "source": [
    "## 궁금하니까 fraud 부터"
   ]
  },
  {
   "cell_type": "code",
   "execution_count": 10,
   "metadata": {},
   "outputs": [
    {
     "data": {
      "text/html": [
       "<div>\n",
       "<style scoped>\n",
       "    .dataframe tbody tr th:only-of-type {\n",
       "        vertical-align: middle;\n",
       "    }\n",
       "\n",
       "    .dataframe tbody tr th {\n",
       "        vertical-align: top;\n",
       "    }\n",
       "\n",
       "    .dataframe thead th {\n",
       "        text-align: right;\n",
       "    }\n",
       "</style>\n",
       "<table border=\"1\" class=\"dataframe\">\n",
       "  <thead>\n",
       "    <tr style=\"text-align: right;\">\n",
       "      <th></th>\n",
       "      <th>num</th>\n",
       "      <th>score</th>\n",
       "    </tr>\n",
       "  </thead>\n",
       "  <tbody>\n",
       "    <tr>\n",
       "      <th>0</th>\n",
       "      <td>2</td>\n",
       "      <td>0.85359</td>\n",
       "    </tr>\n",
       "    <tr>\n",
       "      <th>1</th>\n",
       "      <td>3</td>\n",
       "      <td>0.77341</td>\n",
       "    </tr>\n",
       "    <tr>\n",
       "      <th>2</th>\n",
       "      <td>4</td>\n",
       "      <td>0.72770</td>\n",
       "    </tr>\n",
       "    <tr>\n",
       "      <th>3</th>\n",
       "      <td>5</td>\n",
       "      <td>0.70771</td>\n",
       "    </tr>\n",
       "    <tr>\n",
       "      <th>4</th>\n",
       "      <td>6</td>\n",
       "      <td>0.57954</td>\n",
       "    </tr>\n",
       "    <tr>\n",
       "      <th>5</th>\n",
       "      <td>7</td>\n",
       "      <td>0.49094</td>\n",
       "    </tr>\n",
       "    <tr>\n",
       "      <th>6</th>\n",
       "      <td>8</td>\n",
       "      <td>0.46068</td>\n",
       "    </tr>\n",
       "    <tr>\n",
       "      <th>7</th>\n",
       "      <td>9</td>\n",
       "      <td>0.50896</td>\n",
       "    </tr>\n",
       "    <tr>\n",
       "      <th>8</th>\n",
       "      <td>10</td>\n",
       "      <td>0.48781</td>\n",
       "    </tr>\n",
       "    <tr>\n",
       "      <th>9</th>\n",
       "      <td>11</td>\n",
       "      <td>0.47416</td>\n",
       "    </tr>\n",
       "    <tr>\n",
       "      <th>10</th>\n",
       "      <td>12</td>\n",
       "      <td>0.49792</td>\n",
       "    </tr>\n",
       "    <tr>\n",
       "      <th>11</th>\n",
       "      <td>13</td>\n",
       "      <td>0.51872</td>\n",
       "    </tr>\n",
       "    <tr>\n",
       "      <th>12</th>\n",
       "      <td>14</td>\n",
       "      <td>0.57984</td>\n",
       "    </tr>\n",
       "    <tr>\n",
       "      <th>13</th>\n",
       "      <td>15</td>\n",
       "      <td>0.56204</td>\n",
       "    </tr>\n",
       "    <tr>\n",
       "      <th>14</th>\n",
       "      <td>16</td>\n",
       "      <td>0.53384</td>\n",
       "    </tr>\n",
       "    <tr>\n",
       "      <th>15</th>\n",
       "      <td>17</td>\n",
       "      <td>0.51666</td>\n",
       "    </tr>\n",
       "    <tr>\n",
       "      <th>16</th>\n",
       "      <td>18</td>\n",
       "      <td>0.50384</td>\n",
       "    </tr>\n",
       "    <tr>\n",
       "      <th>17</th>\n",
       "      <td>19</td>\n",
       "      <td>0.47253</td>\n",
       "    </tr>\n",
       "    <tr>\n",
       "      <th>18</th>\n",
       "      <td>20</td>\n",
       "      <td>0.47039</td>\n",
       "    </tr>\n",
       "    <tr>\n",
       "      <th>19</th>\n",
       "      <td>21</td>\n",
       "      <td>0.45752</td>\n",
       "    </tr>\n",
       "    <tr>\n",
       "      <th>20</th>\n",
       "      <td>22</td>\n",
       "      <td>0.41857</td>\n",
       "    </tr>\n",
       "    <tr>\n",
       "      <th>21</th>\n",
       "      <td>23</td>\n",
       "      <td>0.38062</td>\n",
       "    </tr>\n",
       "    <tr>\n",
       "      <th>22</th>\n",
       "      <td>24</td>\n",
       "      <td>0.34157</td>\n",
       "    </tr>\n",
       "  </tbody>\n",
       "</table>\n",
       "</div>"
      ],
      "text/plain": [
       "    num   score\n",
       "0     2 0.85359\n",
       "1     3 0.77341\n",
       "2     4 0.72770\n",
       "3     5 0.70771\n",
       "4     6 0.57954\n",
       "5     7 0.49094\n",
       "6     8 0.46068\n",
       "7     9 0.50896\n",
       "8    10 0.48781\n",
       "9    11 0.47416\n",
       "10   12 0.49792\n",
       "11   13 0.51872\n",
       "12   14 0.57984\n",
       "13   15 0.56204\n",
       "14   16 0.53384\n",
       "15   17 0.51666\n",
       "16   18 0.50384\n",
       "17   19 0.47253\n",
       "18   20 0.47039\n",
       "19   21 0.45752\n",
       "20   22 0.41857\n",
       "21   23 0.38062\n",
       "22   24 0.34157"
      ]
     },
     "execution_count": 10,
     "metadata": {},
     "output_type": "execute_result"
    }
   ],
   "source": [
    "from sklearn.cluster import KMeans\n",
    "from sklearn.metrics import silhouette_score\n",
    "\n",
    "ls = list(range(2,25))\n",
    "\n",
    "num = []\n",
    "score = []\n",
    "\n",
    "for i in ls:\n",
    "    k = i\n",
    "    kmeans = KMeans(n_clusters=k, n_init=20)\n",
    "    kmeans.fit_predict(train_yf)\n",
    "    si_sc = silhouette_score(train_yf, kmeans.labels_)\n",
    "    num.append(i)\n",
    "    score.append(si_sc)\n",
    "    \n",
    "dic = {'num':num, 'score':score}\n",
    "df = pd.DataFrame(dic)\n",
    "df"
   ]
  },
  {
   "cell_type": "code",
   "execution_count": 11,
   "metadata": {},
   "outputs": [
    {
     "data": {
      "image/png": "[encoded data removed]",
      "text/plain": [
       "<Figure size 864x360 with 1 Axes>"
      ]
     },
     "metadata": {
      "image/png": {
       "height": 321,
       "width": 724
      },
      "needs_background": "light"
     },
     "output_type": "display_data"
    }
   ],
   "source": [
    "from matplotlib import pyplot as plt\n",
    "%matplotlib inline\n",
    "\n",
    "plt.figure(figsize=(12,5))\n",
    "plt.plot(df['num'], df['score'], marker='o')\n",
    "plt.xticks(df['num'])\n",
    "plt.xlabel('Clustering num')\n",
    "plt.ylabel('Silhouette Score')\n",
    "\n",
    "plt.show();\n",
    "\n",
    "#"
   ]
  },
  {
   "cell_type": "markdown",
   "metadata": {},
   "source": [
    "## normal turn"
   ]
  },
  {
   "cell_type": "code",
   "execution_count": 12,
   "metadata": {},
   "outputs": [
    {
     "data": {
      "text/html": [
       "<div>\n",
       "<style scoped>\n",
       "    .dataframe tbody tr th:only-of-type {\n",
       "        vertical-align: middle;\n",
       "    }\n",
       "\n",
       "    .dataframe tbody tr th {\n",
       "        vertical-align: top;\n",
       "    }\n",
       "\n",
       "    .dataframe thead th {\n",
       "        text-align: right;\n",
       "    }\n",
       "</style>\n",
       "<table border=\"1\" class=\"dataframe\">\n",
       "  <thead>\n",
       "    <tr style=\"text-align: right;\">\n",
       "      <th></th>\n",
       "      <th>num</th>\n",
       "      <th>score</th>\n",
       "    </tr>\n",
       "  </thead>\n",
       "  <tbody>\n",
       "    <tr>\n",
       "      <th>0</th>\n",
       "      <td>2</td>\n",
       "      <td>0.92383</td>\n",
       "    </tr>\n",
       "    <tr>\n",
       "      <th>1</th>\n",
       "      <td>3</td>\n",
       "      <td>0.87300</td>\n",
       "    </tr>\n",
       "    <tr>\n",
       "      <th>2</th>\n",
       "      <td>4</td>\n",
       "      <td>0.80445</td>\n",
       "    </tr>\n",
       "    <tr>\n",
       "      <th>3</th>\n",
       "      <td>5</td>\n",
       "      <td>0.79144</td>\n",
       "    </tr>\n",
       "    <tr>\n",
       "      <th>4</th>\n",
       "      <td>6</td>\n",
       "      <td>0.74338</td>\n",
       "    </tr>\n",
       "    <tr>\n",
       "      <th>5</th>\n",
       "      <td>7</td>\n",
       "      <td>0.68204</td>\n",
       "    </tr>\n",
       "    <tr>\n",
       "      <th>6</th>\n",
       "      <td>8</td>\n",
       "      <td>0.68208</td>\n",
       "    </tr>\n",
       "    <tr>\n",
       "      <th>7</th>\n",
       "      <td>9</td>\n",
       "      <td>0.69090</td>\n",
       "    </tr>\n",
       "    <tr>\n",
       "      <th>8</th>\n",
       "      <td>10</td>\n",
       "      <td>0.64637</td>\n",
       "    </tr>\n",
       "    <tr>\n",
       "      <th>9</th>\n",
       "      <td>11</td>\n",
       "      <td>0.63512</td>\n",
       "    </tr>\n",
       "    <tr>\n",
       "      <th>10</th>\n",
       "      <td>12</td>\n",
       "      <td>0.56311</td>\n",
       "    </tr>\n",
       "    <tr>\n",
       "      <th>11</th>\n",
       "      <td>13</td>\n",
       "      <td>0.57838</td>\n",
       "    </tr>\n",
       "    <tr>\n",
       "      <th>12</th>\n",
       "      <td>14</td>\n",
       "      <td>0.57684</td>\n",
       "    </tr>\n",
       "    <tr>\n",
       "      <th>13</th>\n",
       "      <td>15</td>\n",
       "      <td>0.57701</td>\n",
       "    </tr>\n",
       "    <tr>\n",
       "      <th>14</th>\n",
       "      <td>16</td>\n",
       "      <td>0.57620</td>\n",
       "    </tr>\n",
       "    <tr>\n",
       "      <th>15</th>\n",
       "      <td>17</td>\n",
       "      <td>0.52367</td>\n",
       "    </tr>\n",
       "    <tr>\n",
       "      <th>16</th>\n",
       "      <td>18</td>\n",
       "      <td>0.54214</td>\n",
       "    </tr>\n",
       "    <tr>\n",
       "      <th>17</th>\n",
       "      <td>19</td>\n",
       "      <td>0.54426</td>\n",
       "    </tr>\n",
       "    <tr>\n",
       "      <th>18</th>\n",
       "      <td>20</td>\n",
       "      <td>0.51867</td>\n",
       "    </tr>\n",
       "    <tr>\n",
       "      <th>19</th>\n",
       "      <td>21</td>\n",
       "      <td>0.52454</td>\n",
       "    </tr>\n",
       "    <tr>\n",
       "      <th>20</th>\n",
       "      <td>22</td>\n",
       "      <td>0.52230</td>\n",
       "    </tr>\n",
       "    <tr>\n",
       "      <th>21</th>\n",
       "      <td>23</td>\n",
       "      <td>0.54517</td>\n",
       "    </tr>\n",
       "    <tr>\n",
       "      <th>22</th>\n",
       "      <td>24</td>\n",
       "      <td>0.54276</td>\n",
       "    </tr>\n",
       "  </tbody>\n",
       "</table>\n",
       "</div>"
      ],
      "text/plain": [
       "    num   score\n",
       "0     2 0.92383\n",
       "1     3 0.87300\n",
       "2     4 0.80445\n",
       "3     5 0.79144\n",
       "4     6 0.74338\n",
       "5     7 0.68204\n",
       "6     8 0.68208\n",
       "7     9 0.69090\n",
       "8    10 0.64637\n",
       "9    11 0.63512\n",
       "10   12 0.56311\n",
       "11   13 0.57838\n",
       "12   14 0.57684\n",
       "13   15 0.57701\n",
       "14   16 0.57620\n",
       "15   17 0.52367\n",
       "16   18 0.54214\n",
       "17   19 0.54426\n",
       "18   20 0.51867\n",
       "19   21 0.52454\n",
       "20   22 0.52230\n",
       "21   23 0.54517\n",
       "22   24 0.54276"
      ]
     },
     "execution_count": 12,
     "metadata": {},
     "output_type": "execute_result"
    }
   ],
   "source": [
    "from sklearn.cluster import KMeans\n",
    "from sklearn.metrics import silhouette_score\n",
    "\n",
    "ls = list(range(2,25))\n",
    "\n",
    "num = []\n",
    "score = []\n",
    "\n",
    "for i in ls:\n",
    "    k = i\n",
    "    kmeans = KMeans(n_clusters=k, n_init=20)\n",
    "    kmeans.fit_predict(train_nf)\n",
    "    si_sc = silhouette_score(train_nf, kmeans.labels_)\n",
    "    num.append(i)\n",
    "    score.append(si_sc)\n",
    "    \n",
    "dic = {'num':num, 'score':score}\n",
    "df = pd.DataFrame(dic)\n",
    "df"
   ]
  },
  {
   "cell_type": "code",
   "execution_count": 13,
   "metadata": {},
   "outputs": [
    {
     "data": {
      "image/png": "[encoded data removed]",
      "text/plain": [
       "<Figure size 864x360 with 1 Axes>"
      ]
     },
     "metadata": {
      "image/png": {
       "height": 321,
       "width": 730
      },
      "needs_background": "light"
     },
     "output_type": "display_data"
    }
   ],
   "source": [
    "from matplotlib import pyplot as plt\n",
    "%matplotlib inline\n",
    "\n",
    "plt.figure(figsize=(12,5))\n",
    "plt.plot(df['num'], df['score'], marker='o')\n",
    "plt.xticks(df['num'])\n",
    "plt.xlabel('Clustering num')\n",
    "plt.ylabel('Silhouette Score')\n",
    "\n",
    "plt.show();\n",
    "\n",
    "\n",
    "#전체 데이터랑 똑같이 나왔음"
   ]
  },
  {
   "cell_type": "code",
   "execution_count": 14,
   "metadata": {},
   "outputs": [
    {
     "name": "stderr",
     "output_type": "stream",
     "text": [
      "/Users/janghan-a/anaconda3/envs/dss15/lib/python3.7/site-packages/ipykernel_launcher.py:11: SettingWithCopyWarning: \n",
      "A value is trying to be set on a copy of a slice from a DataFrame.\n",
      "Try using .loc[row_indexer,col_indexer] = value instead\n",
      "\n",
      "See the caveats in the documentation: https://pandas.pydata.org/pandas-docs/stable/user_guide/indexing.html#returning-a-view-versus-a-copy\n",
      "  # This is added back by InteractiveShellApp.init_path()\n",
      "/Users/janghan-a/anaconda3/envs/dss15/lib/python3.7/site-packages/ipykernel_launcher.py:17: SettingWithCopyWarning: \n",
      "A value is trying to be set on a copy of a slice from a DataFrame.\n",
      "Try using .loc[row_indexer,col_indexer] = value instead\n",
      "\n",
      "See the caveats in the documentation: https://pandas.pydata.org/pandas-docs/stable/user_guide/indexing.html#returning-a-view-versus-a-copy\n",
      "/Users/janghan-a/anaconda3/envs/dss15/lib/python3.7/site-packages/ipykernel_launcher.py:25: SettingWithCopyWarning: \n",
      "A value is trying to be set on a copy of a slice from a DataFrame.\n",
      "Try using .loc[row_indexer,col_indexer] = value instead\n",
      "\n",
      "See the caveats in the documentation: https://pandas.pydata.org/pandas-docs/stable/user_guide/indexing.html#returning-a-view-versus-a-copy\n",
      "/Users/janghan-a/anaconda3/envs/dss15/lib/python3.7/site-packages/ipykernel_launcher.py:30: SettingWithCopyWarning: \n",
      "A value is trying to be set on a copy of a slice from a DataFrame.\n",
      "Try using .loc[row_indexer,col_indexer] = value instead\n",
      "\n",
      "See the caveats in the documentation: https://pandas.pydata.org/pandas-docs/stable/user_guide/indexing.html#returning-a-view-versus-a-copy\n"
     ]
    }
   ],
   "source": [
    "#군집 라벨링 추가해서 샘플링을 해보자\n",
    "\n",
    "from sklearn.cluster import KMeans\n",
    "\n",
    "# Train\n",
    "\n",
    "#fraud\n",
    "k = 14\n",
    "kmeans = KMeans(n_clusters=k)\n",
    "y_pred = kmeans.fit_predict(train_yf)\n",
    "train_yf['cluster'] = y_pred+100\n",
    "\n",
    "#normal\n",
    "k_ = 13\n",
    "kmeans_ = KMeans(n_clusters=k_)\n",
    "y_pred_ = kmeans_.fit_predict(train_nf)\n",
    "train_nf['cluster'] = y_pred_\n",
    "\n",
    "\n",
    "# Test\n",
    "\n",
    "#fraud\n",
    "\n",
    "y_pred = kmeans.predict(test_yf)\n",
    "test_yf['cluster'] = y_pred+100\n",
    "\n",
    "#normal\n",
    "\n",
    "y_pred_ = kmeans_.predict(test_nf)\n",
    "test_nf['cluster'] = y_pred_"
   ]
  },
  {
   "cell_type": "code",
   "execution_count": 16,
   "metadata": {},
   "outputs": [],
   "source": [
    "#fraud-normal 합치기\n",
    "\n",
    "train_ = pd.concat([train_yf, train_nf], axis=0)\n",
    "train_.reset_index(drop=True,inplace=True)\n",
    "\n",
    "\n",
    "X_train_ = train_.drop('cluster',axis=1)\n",
    "y_train_ = train_['cluster']\n",
    "X_train__ = train_.drop('fraud_YN',axis=1)\n",
    "y_train__ = train_['fraud_YN']\n",
    "\n",
    "test_ = pd.concat([test_yf, test_nf], axis=0)\n",
    "test_.reset_index(drop=True,inplace=True)\n",
    "\n",
    "\n",
    "X_test_ = test_.drop('cluster',axis=1)\n",
    "y_test_ = test_['cluster']\n",
    "X_test__ = test_.drop('fraud_YN',axis=1)\n",
    "y_test__ = test_['fraud_YN']\n"
   ]
  },
  {
   "cell_type": "code",
   "execution_count": 17,
   "metadata": {},
   "outputs": [
    {
     "data": {
      "text/plain": [
       "9      7937\n",
       "8      1880\n",
       "0      1217\n",
       "4       817\n",
       "12      479\n",
       "3       255\n",
       "7       125\n",
       "1        54\n",
       "11       40\n",
       "10       19\n",
       "5        13\n",
       "2         7\n",
       "111       7\n",
       "100       4\n",
       "110       4\n",
       "106       3\n",
       "105       3\n",
       "112       3\n",
       "108       2\n",
       "113       2\n",
       "6         2\n",
       "103       1\n",
       "101       1\n",
       "109       1\n",
       "102       1\n",
       "104       1\n",
       "107       1\n",
       "Name: cluster, dtype: int64"
      ]
     },
     "execution_count": 17,
     "metadata": {},
     "output_type": "execute_result"
    }
   ],
   "source": [
    "y_train_.value_counts()"
   ]
  },
  {
   "cell_type": "markdown",
   "metadata": {},
   "source": [
    "## 모델링"
   ]
  },
  {
   "cell_type": "code",
   "execution_count": null,
   "metadata": {},
   "outputs": [],
   "source": [
    "# 베이스 code"
   ]
  },
  {
   "cell_type": "code",
   "execution_count": 37,
   "metadata": {},
   "outputs": [],
   "source": [
    "# 사용할 모델\n",
    "from sklearn.tree import DecisionTreeClassifier\n",
    "from sklearn.linear_model import LogisticRegression\n",
    "from sklearn.ensemble import RandomForestClassifier\n",
    "from lightgbm import LGBMClassifier\n",
    "from sklearn.ensemble import BaggingClassifier\n",
    "from sklearn.svm import SVC\n",
    "\n",
    "\n",
    "\n",
    "dt = DecisionTreeClassifier(max_depth=7, random_state=13)\n",
    "lr = LogisticRegression(random_state=13, solver='liblinear')\n",
    "# lr = LogisticRegression(random_state=13, multi_class='multinomial',solver='lbfgs',C=10)\n",
    "rf = RandomForestClassifier(random_state=13, n_estimators=100, max_depth=6)\n",
    "bag_clf = BaggingClassifier(DecisionTreeClassifier(random_state=13), n_estimators=100,\n",
    "    max_samples=100, bootstrap=False, n_jobs=-1\n",
    ")\n",
    "svc = SVC(random_state=19,kernel = 'linear')\n",
    "lgbm = LGBMClassifier(random_state=13,n_estimators=100, num_leaves=10, n_jobs = -1, boost_from_average=False)\n",
    "\n",
    "# models = [dt,lr,rf,bag_clf,svc,lgbm]\n",
    "models = [dt,lr,rf]\n",
    "# model_names = ['DecisionTreeClassifier','LogisticRegression','RandomForestClassifier','BaggingClassifier','SVC','LGBMClassifier','base']\n",
    "model_names = ['DecisionTreeClassifier','LogisticRegression','RandomForestClassifier','base']"
   ]
  },
  {
   "cell_type": "code",
   "execution_count": 38,
   "metadata": {},
   "outputs": [],
   "source": [
    "#결과 출력 함수\n",
    "from sklearn.metrics import (accuracy_score, precision_score, recall_score, f1_score, roc_auc_score, confusion_matrix)\n",
    "\n",
    "\n",
    "def get_clf_eval(y_test, pred):\n",
    "    acc = accuracy_score(y_test, pred)\n",
    "    pre = precision_score(y_test, pred,labels=([0, 2]))\n",
    "    re = recall_score(y_test, pred)\n",
    "    f1 = f1_score(y_test, pred)\n",
    "    auc = roc_auc_score(y_test, pred)\n",
    "    \n",
    "    \n",
    "    return acc, pre, re, f1, auc\n",
    "\n",
    "\n",
    "\n",
    "def print_clf_eval(y_test, pred):\n",
    "    confusion = confusion_matrix(y_test, pred)\n",
    "    acc, pre, re, f1, auc = get_clf_eval(y_test, pred)\n",
    "    \n",
    "    \n",
    "    print('=> confusion matrix')\n",
    "    print(confusion)\n",
    "    print('==========')\n",
    "    \n",
    "    print('Accuracy :{0:.4f} , Precision: {1:.4f}'.format(acc,pre))\n",
    "    print('Recall: {0:.4f}, F1: {1:.4f}, AUC:{2:.4f}'.format(re, f1, auc))\n",
    "\n",
    "#모델과 데이터를 주면 성능을 출력하는 함수\n",
    "def get_result(model, X_train, y_train, X_test, y_test):\n",
    "    model.fit(X_train, y_train)\n",
    "    pred = model.predict(X_test)\n",
    "\n",
    "    return get_clf_eval(y_test, pred)\n",
    "\n",
    "#다수의 모델의 성능을 정리해서 DataFrame으로 반환\n",
    "def get_result_pd(models, model_names, X_train, y_train, X_test, y_test):\n",
    "    col_names = ['accuracy','precision','recall','f1','roc_auc']\n",
    "    tmp = []\n",
    "\n",
    "    for model in models:\n",
    "        tmp.append(get_result(model,X_train, y_train, X_test, y_test))\n",
    "        print('success enter {}'.format(model))\n",
    "    \n",
    "    # base라인(모두가 정상 데이터)컬럼 추가\n",
    "    base_pred=np.zeros((len(y_test),1))\n",
    "    tmp.append(get_clf_eval(y_test, base_pred))\n",
    "\n",
    "    return pd.DataFrame(tmp, columns=col_names, index=model_names)"
   ]
  },
  {
   "cell_type": "code",
   "execution_count": 39,
   "metadata": {},
   "outputs": [],
   "source": [
    "#class 3개용 결과 출력 함수\n",
    "from sklearn.metrics import (accuracy_score, precision_score, recall_score, f1_score, roc_auc_score, confusion_matrix)\n",
    "\n",
    "\n",
    "def get_clf_eval_3(y_test, pred):\n",
    "    acc = accuracy_score(y_test, pred)\n",
    "    pre = precision_score(y_test, pred,pos_label=2,labels=(0,1,2),average='micro')\n",
    "    re = recall_score(y_test, pred,pos_label=2,labels=(0,1,2),average='micro')\n",
    "    f1 = f1_score(y_test, pred,pos_label=2,labels=(0,1,2),average='micro')\n",
    "#     auc = roc_auc_score(y_test, pred)\n",
    "    \n",
    "    \n",
    "    return acc, pre, re, f1\n",
    "\n",
    "\n",
    "\n",
    "def print_clf_eval_3(y_test, pred):\n",
    "    confusion = confusion_matrix(y_test, pred)\n",
    "    acc, pre, re, f1 = get_clf_eval_3(y_test, pred)\n",
    "    \n",
    "    \n",
    "    print('=> confusion matrix')\n",
    "    print(confusion)\n",
    "\n",
    "\n",
    "#모델과 데이터를 주면 성능을 출력하는 함수\n",
    "def get_result_3(model, X_train, y_train, X_test, y_test):\n",
    "    model.fit(X_train, y_train)\n",
    "    pred = model.predict(X_test)\n",
    "\n",
    "    return get_clf_eval_3(y_test, pred)\n",
    "\n",
    "#다수의 모델의 성능을 정리해서 DataFrame으로 반환\n",
    "def get_result_pd_3(models, model_names, X_train, y_train, X_test, y_test):\n",
    "    col_names = ['accuracy','precision','recall','f1']\n",
    "    tmp = []\n",
    "\n",
    "    for model in models:\n",
    "        tmp.append(get_result_3(model,X_train, y_train, X_test, y_test))\n",
    "        print('success enter {}'.format(model))\n",
    "    \n",
    "    # base라인(모두가 정상 데이터)컬럼 추가\n",
    "    base_pred=np.zeros((len(y_test),1))\n",
    "    tmp.append(get_clf_eval_3(y_test, base_pred))\n",
    "\n",
    "    return pd.DataFrame(tmp, columns=col_names, index=model_names)"
   ]
  },
  {
   "cell_type": "markdown",
   "metadata": {},
   "source": [
    "# SCUT base line : 단순 SMOTE"
   ]
  },
  {
   "cell_type": "code",
   "execution_count": null,
   "metadata": {},
   "outputs": [],
   "source": [
    "y_train "
   ]
  },
  {
   "cell_type": "code",
   "execution_count": null,
   "metadata": {},
   "outputs": [],
   "source": [
    "from imblearn.over_sampling import SMOTE\n",
    "\n",
    "\n",
    "smote = SMOTE(random_state=13, k_neighbors=10,sampling_strategy=1)\n",
    "X_over, y_over = smote.fit_resample(X_train, y_train)\n",
    "\n",
    "y_over.value_counts()"
   ]
  },
  {
   "cell_type": "code",
   "execution_count": null,
   "metadata": {},
   "outputs": [],
   "source": [
    "results = get_result_pd(models, model_names, X_over, y_over, X_test, y_test)\n",
    "print('success get_result!')\n",
    "print(results)"
   ]
  },
  {
   "cell_type": "code",
   "execution_count": null,
   "metadata": {},
   "outputs": [],
   "source": [
    "from sklearn.tree import DecisionTreeClassifier\n",
    "\n",
    "dt_clf = DecisionTreeClassifier(max_depth=7, random_state=13)\n",
    "\n",
    "dt_clf.fit(X_over, y_over)\n",
    "dt_pred= dt_clf.predict(X_test)\n",
    "\n",
    "print_clf_eval(y_test, dt_pred)"
   ]
  },
  {
   "cell_type": "code",
   "execution_count": null,
   "metadata": {},
   "outputs": [],
   "source": [
    "from sklearn.linear_model import LogisticRegression\n",
    "\n",
    "lo_clf = LogisticRegression(random_state=13, solver='liblinear')\n",
    "\n",
    "\n",
    "lo_clf.fit(X_over, y_over)\n",
    "lo_pred= lo_clf.predict(X_test)\n",
    "\n",
    "print_clf_eval(y_test, lo_pred)"
   ]
  },
  {
   "cell_type": "markdown",
   "metadata": {},
   "source": [
    "# fraud 두개로만 나누기"
   ]
  },
  {
   "cell_type": "code",
   "execution_count": 18,
   "metadata": {},
   "outputs": [
    {
     "name": "stderr",
     "output_type": "stream",
     "text": [
      "/Users/janghan-a/anaconda3/envs/dss15/lib/python3.7/site-packages/ipykernel_launcher.py:20: SettingWithCopyWarning: \n",
      "A value is trying to be set on a copy of a slice from a DataFrame.\n",
      "Try using .loc[row_indexer,col_indexer] = value instead\n",
      "\n",
      "See the caveats in the documentation: https://pandas.pydata.org/pandas-docs/stable/user_guide/indexing.html#returning-a-view-versus-a-copy\n",
      "/Users/janghan-a/anaconda3/envs/dss15/lib/python3.7/site-packages/ipykernel_launcher.py:23: SettingWithCopyWarning: \n",
      "A value is trying to be set on a copy of a slice from a DataFrame.\n",
      "Try using .loc[row_indexer,col_indexer] = value instead\n",
      "\n",
      "See the caveats in the documentation: https://pandas.pydata.org/pandas-docs/stable/user_guide/indexing.html#returning-a-view-versus-a-copy\n",
      "/Users/janghan-a/anaconda3/envs/dss15/lib/python3.7/site-packages/ipykernel_launcher.py:31: SettingWithCopyWarning: \n",
      "A value is trying to be set on a copy of a slice from a DataFrame.\n",
      "Try using .loc[row_indexer,col_indexer] = value instead\n",
      "\n",
      "See the caveats in the documentation: https://pandas.pydata.org/pandas-docs/stable/user_guide/indexing.html#returning-a-view-versus-a-copy\n",
      "/Users/janghan-a/anaconda3/envs/dss15/lib/python3.7/site-packages/ipykernel_launcher.py:35: SettingWithCopyWarning: \n",
      "A value is trying to be set on a copy of a slice from a DataFrame.\n",
      "Try using .loc[row_indexer,col_indexer] = value instead\n",
      "\n",
      "See the caveats in the documentation: https://pandas.pydata.org/pandas-docs/stable/user_guide/indexing.html#returning-a-view-versus-a-copy\n"
     ]
    }
   ],
   "source": [
    "#군집 라벨링 추가해서 샘플링을 해보자\n",
    "\n",
    "from sklearn.cluster import KMeans\n",
    "\n",
    "\n",
    "train_yf = train[train['fraud_YN'] == 1]\n",
    "train_nf = train[train['fraud_YN'] == 0]\n",
    "\n",
    "test_yf = test[test['fraud_YN'] == 1]\n",
    "test_nf = test[test['fraud_YN'] == 0]\n",
    "\n",
    "\n",
    "\n",
    "# Train\n",
    "\n",
    "#fraud\n",
    "k = 3\n",
    "kmeans = KMeans(n_clusters=k)\n",
    "y_pred = kmeans.fit_predict(train_yf)\n",
    "train_yf['cluster'] = y_pred\n",
    "\n",
    "#normal\n",
    "train_nf['cluster'] = 3\n",
    "\n",
    "\n",
    "# Test\n",
    "\n",
    "#fraud\n",
    " \n",
    "y_pred = kmeans.predict(test_yf)\n",
    "test_yf['cluster'] = y_pred\n",
    "\n",
    "#normal\n",
    "\n",
    "test_nf['cluster'] = 3"
   ]
  },
  {
   "cell_type": "code",
   "execution_count": 19,
   "metadata": {},
   "outputs": [],
   "source": [
    "#fraud-normal 합치기\n",
    "\n",
    "train_ = pd.concat([train_yf, train_nf], axis=0)\n",
    "train_.reset_index(drop=True,inplace=True)\n",
    "\n",
    "\n",
    "X_train_ = train_.drop(['fraud_YN','cluster'],axis=1)\n",
    "y_train_ = train_['cluster']\n",
    "X_train__ = train_.drop('fraud_YN',axis=1)\n",
    "y_train__ = train_['fraud_YN']\n",
    "\n",
    "test_ = pd.concat([test_yf, test_nf], axis=0)\n",
    "test_.reset_index(drop=True,inplace=True)\n",
    "\n",
    "\n",
    "X_test_ = test_.drop(['fraud_YN','cluster'],axis=1)\n",
    "y_test_ = test_['cluster']\n",
    "X_test__ = test_.drop('fraud_YN',axis=1)\n",
    "y_test__ = test_['fraud_YN']\n"
   ]
  },
  {
   "cell_type": "code",
   "execution_count": 20,
   "metadata": {},
   "outputs": [
    {
     "data": {
      "text/plain": [
       "3    12845\n",
       "1       31\n",
       "0        2\n",
       "2        1\n",
       "Name: cluster, dtype: int64"
      ]
     },
     "execution_count": 20,
     "metadata": {},
     "output_type": "execute_result"
    }
   ],
   "source": [
    "y_train_.value_counts()"
   ]
  },
  {
   "cell_type": "code",
   "execution_count": 21,
   "metadata": {},
   "outputs": [
    {
     "data": {
      "text/plain": [
       "[0,\n",
       " 1,\n",
       " 2,\n",
       " 3,\n",
       " 4,\n",
       " 6,\n",
       " 7,\n",
       " 8,\n",
       " 9,\n",
       " 10,\n",
       " 11,\n",
       " 12,\n",
       " 13,\n",
       " 14,\n",
       " 15,\n",
       " 17,\n",
       " 18,\n",
       " 19,\n",
       " 20,\n",
       " 21,\n",
       " 22,\n",
       " 23,\n",
       " 24,\n",
       " 25,\n",
       " 26,\n",
       " 28,\n",
       " 29,\n",
       " 30,\n",
       " 31,\n",
       " 32,\n",
       " 33]"
      ]
     },
     "execution_count": 21,
     "metadata": {},
     "output_type": "execute_result"
    }
   ],
   "source": [
    "out_ls = list(y_train_[y_train_== 1].index)\n",
    "out_ls"
   ]
  },
  {
   "cell_type": "code",
   "execution_count": 23,
   "metadata": {
    "scrolled": true
   },
   "outputs": [],
   "source": [
    "X_train_.loc[out_ls]\n",
    "#fraud 전체를 *2하고 오버샘플링 해야겠다."
   ]
  },
  {
   "cell_type": "code",
   "execution_count": 24,
   "metadata": {},
   "outputs": [
    {
     "data": {
      "text/plain": [
       "(136, 24)"
      ]
     },
     "execution_count": 24,
     "metadata": {},
     "output_type": "execute_result"
    }
   ],
   "source": [
    "#fraud 34개 -> 68개 만들기\n",
    "#1. train_yf를 클론한 데이터프레임을 만들고\n",
    "#2. train_yf에 합치기\n",
    "\n",
    "train_yf = train[train['fraud_YN']==1]\n",
    "train_nf = train[train['fraud_YN']==0]\n",
    "\n",
    "test_yf = test[test['fraud_YN']==1]\n",
    "test_nf = test[test['fraud_YN']==0]\n",
    "\n",
    "#1. \n",
    "clone_train_yf = train_yf.copy()\n",
    "\n",
    "#2. \n",
    "train_yf = pd.concat([train_yf, clone_train_yf,clone_train_yf,clone_train_yf], axis=0)\n",
    "train_yf.reset_index(drop=True, inplace=True)\n",
    "train_yf.shape  #(102, 24)\n",
    "\n"
   ]
  },
  {
   "cell_type": "code",
   "execution_count": 25,
   "metadata": {},
   "outputs": [
    {
     "name": "stderr",
     "output_type": "stream",
     "text": [
      "/Users/janghan-a/anaconda3/envs/dss15/lib/python3.7/site-packages/ipykernel_launcher.py:18: SettingWithCopyWarning: \n",
      "A value is trying to be set on a copy of a slice from a DataFrame.\n",
      "Try using .loc[row_indexer,col_indexer] = value instead\n",
      "\n",
      "See the caveats in the documentation: https://pandas.pydata.org/pandas-docs/stable/user_guide/indexing.html#returning-a-view-versus-a-copy\n",
      "/Users/janghan-a/anaconda3/envs/dss15/lib/python3.7/site-packages/ipykernel_launcher.py:26: SettingWithCopyWarning: \n",
      "A value is trying to be set on a copy of a slice from a DataFrame.\n",
      "Try using .loc[row_indexer,col_indexer] = value instead\n",
      "\n",
      "See the caveats in the documentation: https://pandas.pydata.org/pandas-docs/stable/user_guide/indexing.html#returning-a-view-versus-a-copy\n",
      "/Users/janghan-a/anaconda3/envs/dss15/lib/python3.7/site-packages/ipykernel_launcher.py:30: SettingWithCopyWarning: \n",
      "A value is trying to be set on a copy of a slice from a DataFrame.\n",
      "Try using .loc[row_indexer,col_indexer] = value instead\n",
      "\n",
      "See the caveats in the documentation: https://pandas.pydata.org/pandas-docs/stable/user_guide/indexing.html#returning-a-view-versus-a-copy\n"
     ]
    }
   ],
   "source": [
    "# fraud 군집 2개 하기\n",
    "\n",
    "\n",
    "#군집 라벨링 추가해서 샘플링을 해보자\n",
    "\n",
    "from sklearn.cluster import KMeans\n",
    "\n",
    "\n",
    "# Train\n",
    "\n",
    "#fraud\n",
    "k = 3\n",
    "kmeans = KMeans(n_clusters=k)\n",
    "y_pred = kmeans.fit_predict(train_yf)\n",
    "train_yf['cluster'] = y_pred\n",
    "\n",
    "#normal\n",
    "train_nf['cluster'] = 3\n",
    "\n",
    "\n",
    "# Test\n",
    "\n",
    "#fraud\n",
    " \n",
    "y_pred = kmeans.predict(test_yf)\n",
    "test_yf['cluster'] = y_pred\n",
    "\n",
    "#normal\n",
    "\n",
    "test_nf['cluster'] = 3"
   ]
  },
  {
   "cell_type": "code",
   "execution_count": 26,
   "metadata": {},
   "outputs": [
    {
     "data": {
      "text/plain": [
       "0    124\n",
       "2      8\n",
       "1      4\n",
       "Name: cluster, dtype: int64"
      ]
     },
     "execution_count": 26,
     "metadata": {},
     "output_type": "execute_result"
    }
   ],
   "source": [
    "train_yf['cluster'].value_counts()"
   ]
  },
  {
   "cell_type": "code",
   "execution_count": 27,
   "metadata": {},
   "outputs": [],
   "source": [
    "#오버샘플링을 위한 feature, label 나눠주기\n",
    "X_train_yf = train_yf.drop(['fraud_YN','cluster'], axis=1)\n",
    "y_train_yf = train_yf['cluster']"
   ]
  },
  {
   "cell_type": "code",
   "execution_count": 28,
   "metadata": {},
   "outputs": [
    {
     "data": {
      "text/plain": [
       "0    124\n",
       "2     32\n",
       "1     32\n",
       "Name: cluster, dtype: int64"
      ]
     },
     "execution_count": 28,
     "metadata": {},
     "output_type": "execute_result"
    }
   ],
   "source": [
    "#fraud만 오버샘플링\n",
    "\n",
    "from imblearn.over_sampling import SMOTE\n",
    "\n",
    "\n",
    "smote = SMOTE(random_state=13, k_neighbors=3,sampling_strategy={0:124,1:32,2:32})\n",
    "X_over_yf, y_over_yf = smote.fit_resample(X_train_yf, y_train_yf)\n",
    "\n",
    "y_over_yf.value_counts()\n",
    "#갹!"
   ]
  },
  {
   "cell_type": "code",
   "execution_count": 29,
   "metadata": {},
   "outputs": [],
   "source": [
    "#오버샘플링된 yf 다시 트레인에 합치기\n",
    "\n",
    "#yf feature + label\n",
    "X_over_yf['cluster'] = y_over_yf\n",
    "over_train_yf = X_over_yf.copy()\n",
    "train_nf_ = train_nf.drop('fraud_YN', axis=1)\n",
    "\n",
    "#nf + yf\n",
    "\n",
    "oy_train_ = pd.concat([over_train_yf, train_nf_], axis=0)\n",
    "oy_train_.reset_index(drop=True,inplace=True)\n",
    "oy_train_ #train_.shape = (12879, 25)  62개 늘어남\n",
    "\n",
    "test_ = pd.concat([test_yf, test_nf], axis=0)\n",
    "test_.reset_index(drop=True, inplace=True)\n",
    "\n",
    "\n",
    "\n",
    "#train - test split\n",
    "\n",
    "X_oy_train = oy_train_.drop('cluster', axis=1)\n",
    "y_oy_train = oy_train_['cluster']\n",
    "\n",
    "X_test_ = test_.drop(['fraud_YN','cluster'], axis=1)\n",
    "y_test_ = test_['cluster']"
   ]
  },
  {
   "cell_type": "code",
   "execution_count": null,
   "metadata": {},
   "outputs": [],
   "source": [
    "#오버샘플링 갯수 정하기\n",
    "\n",
    "#1 갯수\n",
    "12645/2*2/3  #4215\n",
    "\n",
    "#2 갯수\n",
    "12645/2*1/2  #3161"
   ]
  },
  {
   "cell_type": "code",
   "execution_count": 30,
   "metadata": {},
   "outputs": [
    {
     "data": {
      "text/plain": [
       "3    12845\n",
       "0    12845\n",
       "2     5000\n",
       "1     5000\n",
       "Name: cluster, dtype: int64"
      ]
     },
     "execution_count": 30,
     "metadata": {},
     "output_type": "execute_result"
    }
   ],
   "source": [
    "# normal - fraud 오버샘플링\n",
    "\n",
    "\n",
    "from imblearn.over_sampling import SMOTE\n",
    "\n",
    "\n",
    "smote = SMOTE(random_state=13, k_neighbors=9,sampling_strategy={0:12845,1:5000,2:5000,3:12845})\n",
    "X_over_yf, y_over_yf = smote.fit_resample(X_oy_train, y_oy_train)\n",
    "\n",
    "y_over_yf.value_counts()\n",
    "#갹!"
   ]
  },
  {
   "cell_type": "code",
   "execution_count": 31,
   "metadata": {},
   "outputs": [
    {
     "data": {
      "text/plain": [
       "3    12845\n",
       "0    12845\n",
       "2       32\n",
       "1       32\n",
       "Name: cluster, dtype: int64"
      ]
     },
     "execution_count": 31,
     "metadata": {},
     "output_type": "execute_result"
    }
   ],
   "source": [
    "#bother line sampling\n",
    "\n",
    "from imblearn.over_sampling import BorderlineSMOTE\n",
    "\n",
    "# imblearn.over_sampling.BorderlineSMOTE(*, sampling_strategy='auto', random_state=None, k_neighbors=5, n_jobs=None, m_neighbors=10, kind='borderline-1')[source]\n",
    "\n",
    "\n",
    "\n",
    "bother_smote = BorderlineSMOTE(random_state=13, k_neighbors=9,sampling_strategy={0:12845,1:5000,2:5000,3:12845})\n",
    "X_b_over_yf, y_b_over_yf = bother_smote.fit_resample(X_oy_train, y_oy_train)\n",
    "\n",
    "y_b_over_yf.value_counts()\n",
    "\n",
    "\n",
    "\n",
    "#다수 클래스 경계에 없는 거는 전혀 오버샘플링이 안됨 ."
   ]
  },
  {
   "cell_type": "code",
   "execution_count": 40,
   "metadata": {},
   "outputs": [
    {
     "name": "stderr",
     "output_type": "stream",
     "text": [
      "/Users/janghan-a/anaconda3/envs/dss15/lib/python3.7/site-packages/sklearn/metrics/_classification.py:1270: UserWarning: Note that pos_label (set to 2) is ignored when average != 'binary' (got 'micro'). You may use labels=[pos_label] to specify a single positive class.\n",
      "  % (pos_label, average), UserWarning)\n"
     ]
    },
    {
     "name": "stdout",
     "output_type": "stream",
     "text": [
      "success enter DecisionTreeClassifier(max_depth=7, random_state=13)\n"
     ]
    },
    {
     "name": "stderr",
     "output_type": "stream",
     "text": [
      "/Users/janghan-a/anaconda3/envs/dss15/lib/python3.7/site-packages/sklearn/metrics/_classification.py:1270: UserWarning: Note that pos_label (set to 2) is ignored when average != 'binary' (got 'micro'). You may use labels=[pos_label] to specify a single positive class.\n",
      "  % (pos_label, average), UserWarning)\n"
     ]
    },
    {
     "name": "stdout",
     "output_type": "stream",
     "text": [
      "success enter LogisticRegression(random_state=13, solver='liblinear')\n",
      "success enter RandomForestClassifier(max_depth=6, random_state=13)\n",
      "success get_result!\n",
      "                        accuracy  precision  recall      f1\n",
      "DecisionTreeClassifier   0.84108    0.00406 0.28571 0.00800\n",
      "LogisticRegression       0.38321    0.00208 0.57143 0.00414\n",
      "RandomForestClassifier   0.86383    0.00000 0.00000 0.00000\n",
      "base                     0.00224    0.00224 1.00000 0.00448\n"
     ]
    },
    {
     "name": "stderr",
     "output_type": "stream",
     "text": [
      "/Users/janghan-a/anaconda3/envs/dss15/lib/python3.7/site-packages/sklearn/metrics/_classification.py:1270: UserWarning: Note that pos_label (set to 2) is ignored when average != 'binary' (got 'micro'). You may use labels=[pos_label] to specify a single positive class.\n",
      "  % (pos_label, average), UserWarning)\n"
     ]
    }
   ],
   "source": [
    "results = get_result_pd_3(models, model_names, X_b_over_yf, y_b_over_yf, X_test_, y_test_)\n",
    "print('success get_result!')\n",
    "print(results)"
   ]
  },
  {
   "cell_type": "code",
   "execution_count": 41,
   "metadata": {},
   "outputs": [
    {
     "name": "stderr",
     "output_type": "stream",
     "text": [
      "/Users/janghan-a/anaconda3/envs/dss15/lib/python3.7/site-packages/sklearn/metrics/_classification.py:1270: UserWarning: Note that pos_label (set to 2) is ignored when average != 'binary' (got 'micro'). You may use labels=[pos_label] to specify a single positive class.\n",
      "  % (pos_label, average), UserWarning)\n"
     ]
    },
    {
     "name": "stdout",
     "output_type": "stream",
     "text": [
      "success enter DecisionTreeClassifier(max_depth=7, random_state=13)\n"
     ]
    },
    {
     "name": "stderr",
     "output_type": "stream",
     "text": [
      "/Users/janghan-a/anaconda3/envs/dss15/lib/python3.7/site-packages/sklearn/metrics/_classification.py:1270: UserWarning: Note that pos_label (set to 2) is ignored when average != 'binary' (got 'micro'). You may use labels=[pos_label] to specify a single positive class.\n",
      "  % (pos_label, average), UserWarning)\n"
     ]
    },
    {
     "name": "stdout",
     "output_type": "stream",
     "text": [
      "success enter LogisticRegression(random_state=13, solver='liblinear')\n",
      "success enter RandomForestClassifier(max_depth=6, random_state=13)\n",
      "success get_result!\n",
      "                        accuracy  precision  recall      f1\n",
      "DecisionTreeClassifier   0.80904    0.00504 0.42857 0.00997\n",
      "LogisticRegression       0.30855    0.00231 0.71429 0.00461\n",
      "RandomForestClassifier   0.87120    0.00000 0.00000 0.00000\n",
      "base                     0.00224    0.00224 1.00000 0.00448\n"
     ]
    },
    {
     "name": "stderr",
     "output_type": "stream",
     "text": [
      "/Users/janghan-a/anaconda3/envs/dss15/lib/python3.7/site-packages/sklearn/metrics/_classification.py:1270: UserWarning: Note that pos_label (set to 2) is ignored when average != 'binary' (got 'micro'). You may use labels=[pos_label] to specify a single positive class.\n",
      "  % (pos_label, average), UserWarning)\n"
     ]
    }
   ],
   "source": [
    "#모델 돌려보기\n",
    "\n",
    "results = get_result_pd_3(models, model_names, X_over_yf, y_over_yf, X_test_, y_test_)\n",
    "print('success get_result!')\n",
    "print(results)"
   ]
  },
  {
   "cell_type": "code",
   "execution_count": 42,
   "metadata": {},
   "outputs": [
    {
     "name": "stdout",
     "output_type": "stream",
     "text": [
      "=> confusion matrix\n",
      "[[   5    0    0    2]\n",
      " [   0    0    0    0]\n",
      " [   0    0    0    0]\n",
      " [1940  114  102  958]]\n"
     ]
    },
    {
     "name": "stderr",
     "output_type": "stream",
     "text": [
      "/Users/janghan-a/anaconda3/envs/dss15/lib/python3.7/site-packages/sklearn/metrics/_classification.py:1270: UserWarning: Note that pos_label (set to 2) is ignored when average != 'binary' (got 'micro'). You may use labels=[pos_label] to specify a single positive class.\n",
      "  % (pos_label, average), UserWarning)\n"
     ]
    }
   ],
   "source": [
    "from sklearn.linear_model import LogisticRegression\n",
    "\n",
    "lo_clf = LogisticRegression(random_state=13, solver='liblinear')\n",
    "\n",
    "\n",
    "lo_clf.fit(X_over_yf, y_over_yf)\n",
    "lo_pred= lo_clf.predict(X_test_)\n",
    "\n",
    "print_clf_eval_3(y_test_, lo_pred)"
   ]
  },
  {
   "cell_type": "code",
   "execution_count": 43,
   "metadata": {},
   "outputs": [
    {
     "name": "stdout",
     "output_type": "stream",
     "text": [
      "=> confusion matrix\n",
      "[[    0     0     2     0]\n",
      " [   25     0     0     6]\n",
      " [    0     1     0     0]\n",
      " [ 1995     0     6 10844]]\n"
     ]
    },
    {
     "name": "stderr",
     "output_type": "stream",
     "text": [
      "/Users/janghan-a/anaconda3/envs/dss15/lib/python3.7/site-packages/sklearn/metrics/_classification.py:1270: UserWarning: Note that pos_label (set to 2) is ignored when average != 'binary' (got 'micro'). You may use labels=[pos_label] to specify a single positive class.\n",
      "  % (pos_label, average), UserWarning)\n"
     ]
    }
   ],
   "source": [
    "from sklearn.tree import DecisionTreeClassifier\n",
    "\n",
    "dt_clf = DecisionTreeClassifier(max_depth=7, random_state=13)\n",
    "\n",
    "dt_clf.fit(X_over_yf, y_over_yf)\n",
    "dt_pred= dt_clf.predict(X_train_)\n",
    "\n",
    "print_clf_eval_3(y_train_, dt_pred)"
   ]
  },
  {
   "cell_type": "code",
   "execution_count": 44,
   "metadata": {},
   "outputs": [
    {
     "name": "stdout",
     "output_type": "stream",
     "text": [
      "=> confusion matrix\n",
      "[[   3    0    0    4]\n",
      " [   0    0    0    0]\n",
      " [   0    0    0    0]\n",
      " [ 588    1    3 2522]]\n"
     ]
    },
    {
     "name": "stderr",
     "output_type": "stream",
     "text": [
      "/Users/janghan-a/anaconda3/envs/dss15/lib/python3.7/site-packages/sklearn/metrics/_classification.py:1270: UserWarning: Note that pos_label (set to 2) is ignored when average != 'binary' (got 'micro'). You may use labels=[pos_label] to specify a single positive class.\n",
      "  % (pos_label, average), UserWarning)\n"
     ]
    }
   ],
   "source": [
    "from sklearn.tree import DecisionTreeClassifier\n",
    "\n",
    "dt_clf = DecisionTreeClassifier(max_depth=7, random_state=13)\n",
    "\n",
    "dt_clf.fit(X_over_yf, y_over_yf)\n",
    "dt_pred= dt_clf.predict(X_test_)\n",
    "\n",
    "print_clf_eval_3(y_test_, dt_pred)"
   ]
  },
  {
   "cell_type": "code",
   "execution_count": null,
   "metadata": {},
   "outputs": [],
   "source": [
    "# from sklearn.svm import SVC\n",
    "# svc = SVC(kernel = 'linear',C=100)\n",
    "# svc.fit(X_over_yf, y_over_yf)\n",
    "# svc_pred= svc.predict(X_test_)\n",
    "\n",
    "# print_clf_eval(y_test_, svc_pred)"
   ]
  },
  {
   "cell_type": "markdown",
   "metadata": {},
   "source": [
    "# 언더두 같이 해주자"
   ]
  },
  {
   "cell_type": "code",
   "execution_count": 46,
   "metadata": {},
   "outputs": [
    {
     "name": "stderr",
     "output_type": "stream",
     "text": [
      "/Users/janghan-a/anaconda3/envs/dss15/lib/python3.7/site-packages/imblearn/utils/_validation.py:326: UserWarning: After over-sampling, the number of samples (13000) in class 3 will be larger than the number of samples in the majority class (class #3 -> 12845)\n",
      "  n_samples_majority,\n"
     ]
    },
    {
     "name": "stdout",
     "output_type": "stream",
     "text": [
      "success entering pipeline!\n",
      "success enter DecisionTreeClassifier(max_depth=7, random_state=13)\n"
     ]
    },
    {
     "name": "stderr",
     "output_type": "stream",
     "text": [
      "/Users/janghan-a/anaconda3/envs/dss15/lib/python3.7/site-packages/sklearn/metrics/_classification.py:1270: UserWarning: Note that pos_label (set to 2) is ignored when average != 'binary' (got 'micro'). You may use labels=[pos_label] to specify a single positive class.\n",
      "  % (pos_label, average), UserWarning)\n",
      "/Users/janghan-a/anaconda3/envs/dss15/lib/python3.7/site-packages/sklearn/metrics/_classification.py:1270: UserWarning: Note that pos_label (set to 2) is ignored when average != 'binary' (got 'micro'). You may use labels=[pos_label] to specify a single positive class.\n",
      "  % (pos_label, average), UserWarning)\n"
     ]
    },
    {
     "name": "stdout",
     "output_type": "stream",
     "text": [
      "success enter LogisticRegression(random_state=13, solver='liblinear')\n",
      "success enter RandomForestClassifier(max_depth=6, random_state=13)\n",
      "success get_result!\n",
      "                        accuracy  precision  recall      f1\n",
      "DecisionTreeClassifier   0.71227    0.00112 0.14286 0.00222\n",
      "LogisticRegression       0.35437    0.00248 0.71429 0.00494\n",
      "RandomForestClassifier   0.87344    0.00000 0.00000 0.00000\n",
      "base                     0.00224    0.00224 1.00000 0.00448\n"
     ]
    },
    {
     "name": "stderr",
     "output_type": "stream",
     "text": [
      "/Users/janghan-a/anaconda3/envs/dss15/lib/python3.7/site-packages/sklearn/metrics/_classification.py:1270: UserWarning: Note that pos_label (set to 2) is ignored when average != 'binary' (got 'micro'). You may use labels=[pos_label] to specify a single positive class.\n",
      "  % (pos_label, average), UserWarning)\n"
     ]
    }
   ],
   "source": [
    "\n",
    "#샘플링\n",
    "\n",
    "# pipeline을 활용한 오버샘플링 + 언더샘플링 (smote + NearMiss)\n",
    "\n",
    "from imblearn.pipeline import Pipeline\n",
    "from imblearn.under_sampling import NearMiss\n",
    "from imblearn.under_sampling import TomekLinks\n",
    "from imblearn.under_sampling import EditedNearestNeighbours\n",
    "from imblearn.over_sampling import SMOTE\n",
    "from imblearn.over_sampling import BorderlineSMOTE\n",
    "\n",
    "\n",
    "\n",
    "\n",
    "# define pipeline\n",
    "over = BorderlineSMOTE(random_state=13, k_neighbors=16,sampling_strategy={0:12845,1:5000,2:5000,3:13000})\n",
    "under = TomekLinks()\n",
    "steps = [('o', over), ('u', under)]\n",
    "pipeline = Pipeline(steps=steps)\n",
    "# transform the dataset\n",
    "X_train_mix, y_train_mix  = pipeline.fit_resample(X_oy_train, y_oy_train)\n",
    "print('success entering pipeline!')\n",
    "\n",
    "\n",
    "    \n",
    "\n",
    "results = get_result_pd_3(models, model_names, X_train_mix, y_train_mix, X_test_, y_test_)\n",
    "print('success get_result!')\n",
    "print(results)\n"
   ]
  },
  {
   "cell_type": "code",
   "execution_count": 47,
   "metadata": {},
   "outputs": [
    {
     "name": "stdout",
     "output_type": "stream",
     "text": [
      "=> confusion matrix\n",
      "[[   5    2]\n",
      " [2013 1101]]\n"
     ]
    },
    {
     "name": "stderr",
     "output_type": "stream",
     "text": [
      "/Users/janghan-a/anaconda3/envs/dss15/lib/python3.7/site-packages/sklearn/metrics/_classification.py:1270: UserWarning: Note that pos_label (set to 2) is ignored when average != 'binary' (got 'micro'). You may use labels=[pos_label] to specify a single positive class.\n",
      "  % (pos_label, average), UserWarning)\n"
     ]
    }
   ],
   "source": [
    "from sklearn.linear_model import LogisticRegression\n",
    "\n",
    "lo_clf = LogisticRegression(random_state=13, solver='liblinear')\n",
    "\n",
    "\n",
    "lo_clf.fit(X_train_mix, y_train_mix)\n",
    "lo_pred= lo_clf.predict(X_test_)\n",
    "\n",
    "print_clf_eval_3(y_test_, lo_pred)"
   ]
  },
  {
   "cell_type": "code",
   "execution_count": 48,
   "metadata": {},
   "outputs": [
    {
     "name": "stdout",
     "output_type": "stream",
     "text": [
      "=> confusion matrix\n",
      "[[   2    0    5]\n",
      " [   0    0    0]\n",
      " [1112    7 1995]]\n"
     ]
    },
    {
     "name": "stderr",
     "output_type": "stream",
     "text": [
      "/Users/janghan-a/anaconda3/envs/dss15/lib/python3.7/site-packages/sklearn/metrics/_classification.py:1270: UserWarning: Note that pos_label (set to 2) is ignored when average != 'binary' (got 'micro'). You may use labels=[pos_label] to specify a single positive class.\n",
      "  % (pos_label, average), UserWarning)\n"
     ]
    }
   ],
   "source": [
    "from sklearn.tree import DecisionTreeClassifier\n",
    "\n",
    "dt_clf = DecisionTreeClassifier(max_depth=6, random_state=13)\n",
    "\n",
    "dt_clf.fit(X_train_mix, y_train_mix)\n",
    "dt_pred= dt_clf.predict(X_test_)\n",
    "\n",
    "print_clf_eval_3(y_test_, dt_pred)"
   ]
  }
 ],
 "metadata": {
  "kernelspec": {
   "display_name": "Python 3",
   "language": "python",
   "name": "python3"
  },
  "language_info": {
   "codemirror_mode": {
    "name": "ipython",
    "version": 3
   },
   "file_extension": ".py",
   "mimetype": "text/x-python",
   "name": "python",
   "nbconvert_exporter": "python",
   "pygments_lexer": "ipython3",
   "version": "3.7.9"
  }
 },
 "nbformat": 4,
 "nbformat_minor": 2
}
